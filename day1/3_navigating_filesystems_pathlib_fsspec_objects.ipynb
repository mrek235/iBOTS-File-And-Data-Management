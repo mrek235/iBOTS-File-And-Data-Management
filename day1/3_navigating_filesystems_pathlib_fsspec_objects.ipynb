{
 "cells": [
  {
   "cell_type": "markdown",
   "metadata": {},
   "source": [
    "# Navigating the Filesystem\n",
    "\n",
    "Let's delve into the essential skills of navigating and managing files and directories, a fundamental aspect of handling experimental data in neuroscience research. We will explore various commands and techniques to efficiently organize and access your experimental data, ensuring seamless integration into your analysis workflow."
   ]
  },
  {
   "cell_type": "markdown",
   "metadata": {},
   "source": [
    "Run the Following Code to Get the Data for this Notebook:"
   ]
  },
  {
   "cell_type": "code",
   "execution_count": 1,
   "metadata": {},
   "outputs": [],
   "source": [
    "from pathlib import Path\n",
    "paths = [\n",
    "    \"data/exp1/joey_2021-05-01_001/spikes.npy\", \n",
    "    \"data/exp1/joey_2021-05-02_001/spikes.npy\", \n",
    "    \"data/exp1/joey_2021-05-02_001/lfps.h5\", \n",
    "    \"data/exp1/phoebe_2021-05-02_001/spikes.npy\",\n",
    "    \"data/exp1/phoebe_2021-05-03_001/spikes.npy\", \n",
    "    \"data/exp1/phoebe_2021-05-03_001/lfps.h5\", \n",
    "    \"data/exp1/phoebe_2021-05-04_001/spikes.npy\",\n",
    "]\n",
    "\n",
    "for path in paths:\n",
    "    path = Path(path)\n",
    "    path.parent.mkdir(exist_ok=True, parents=True)\n",
    "    path.touch()"
   ]
  },
  {
   "cell_type": "markdown",
   "metadata": {},
   "source": [
    "## Using the pathlib library\n",
    "\n",
    "The pathlib module in Python introduces an object-oriented approach to file system paths--. This section is designed to familiarize you with this powerful library, enhancing your ability to handle file paths and directories with more flexibility and intuitiveness. We'll cover basic operations like listing directories, globbing for pattern matching, and more, all through the lens of object-oriented programming.\n",
    "\n",
    "| Command | Purpose |\n",
    "| :-- | :-- |\n",
    "| `from pathlib import Path` | | \n",
    "| `Path('.').resolve()` | Gets the current working directory. |\n",
    "| `path = Path('./data')` | Make a `Path` object located in the data folder of the working directory. |\n",
    "| `list(path.iterdir())` | List all the files and folders in the specified path |\n",
    "| `new_path = path.joinpath(\"raw\")` | Append the \"/raw\" folder to the current path |\n",
    "| `new_path = path / \"raw\"` | Also append the \"/raw\" folder to the current path. |\n",
    "| `glob.glob('*.h5')` | Search for files that end in \".h5\" in the current path. |\n",
    "| `glob.glob('data*')` | Search for files that start with \"data\" in the current path. |\n",
    "| `glob.glob('./**/data*')` | Search for files that start with \"data\" in the any subfolder in the current path. |\n"
   ]
  },
  {
   "cell_type": "code",
   "execution_count": 2,
   "metadata": {},
   "outputs": [],
   "source": [
    "from pathlib import Path"
   ]
  },
  {
   "cell_type": "markdown",
   "metadata": {},
   "source": [
    "What is the current working directory?"
   ]
  },
  {
   "cell_type": "code",
   "execution_count": null,
   "metadata": {},
   "outputs": [],
   "source": []
  },
  {
   "cell_type": "markdown",
   "metadata": {},
   "source": [
    "What files and folders are inside the current working directory?"
   ]
  },
  {
   "cell_type": "code",
   "execution_count": null,
   "metadata": {},
   "outputs": [],
   "source": []
  },
  {
   "cell_type": "markdown",
   "metadata": {},
   "source": [
    "What Files and folders are inside the \"data\" directory?"
   ]
  },
  {
   "cell_type": "code",
   "execution_count": null,
   "metadata": {},
   "outputs": [],
   "source": []
  },
  {
   "cell_type": "markdown",
   "metadata": {},
   "source": [
    "What Files and Folders are inside the \"exp1\" directory, inside the \"data\" directory?"
   ]
  },
  {
   "cell_type": "code",
   "execution_count": null,
   "metadata": {},
   "outputs": [],
   "source": []
  },
  {
   "cell_type": "markdown",
   "metadata": {},
   "source": [
    "What folders in exp1 start with the subject \"phoebe\" (Hint: use Path().glob())?"
   ]
  },
  {
   "cell_type": "code",
   "execution_count": null,
   "metadata": {},
   "outputs": [],
   "source": []
  },
  {
   "cell_type": "markdown",
   "metadata": {},
   "source": [
    "What folders in exp1 start with the subject \"joey\"?"
   ]
  },
  {
   "cell_type": "code",
   "execution_count": null,
   "metadata": {},
   "outputs": [],
   "source": []
  },
  {
   "cell_type": "markdown",
   "metadata": {},
   "source": [
    "What folders in exp1 were recorded on the 2nd of May (hint-glob on the date part of the filename)?"
   ]
  },
  {
   "cell_type": "code",
   "execution_count": null,
   "metadata": {},
   "outputs": [],
   "source": []
  },
  {
   "cell_type": "markdown",
   "metadata": {},
   "source": [
    "What files have the \".h5\" file extension (include all files in any subfolders of exp1)?"
   ]
  },
  {
   "cell_type": "code",
   "execution_count": null,
   "metadata": {},
   "outputs": [],
   "source": []
  },
  {
   "cell_type": "markdown",
   "metadata": {},
   "source": [
    "What files have the \".npy\" file extension (include all files in any subfolders of exp1)?"
   ]
  },
  {
   "cell_type": "code",
   "execution_count": null,
   "metadata": {},
   "outputs": [],
   "source": []
  },
  {
   "cell_type": "markdown",
   "metadata": {},
   "source": [
    "Which of phoebe's files contain lfp data?"
   ]
  },
  {
   "cell_type": "code",
   "execution_count": null,
   "metadata": {},
   "outputs": [],
   "source": []
  },
  {
   "cell_type": "markdown",
   "metadata": {},
   "source": [
    "## Accessing Remote File Systems using `fsspec`: \n",
    "\n",
    "In modern neuroscience research, accessing and manipulating data stored in remote file systems is increasingly common. This section introduces fsspec, a library for interacting with various file systems, including remote and cloud-based storage. We'll explore how to list, search, and manage files on different remote systems, an invaluable skill in a data-intensive field like neuroscience.\n",
    "\n",
    "\n",
    "| Code | Description |\n",
    "| :-- | :-- |\n",
    "|`fs.ls()` | Lists all files and directories in the current directory of the filesystem. |\n",
    "| `fs.glob('*.h5')` | Searches for files matching a specified pattern (in this case, all files ending with '.h5') in the current directory and subdirectories. |\n",
    "| `fs.makedirs()` | Creates a new directory at the specified path, including any necessary intermediate directories. |\n",
    "| `fs.removedirs()` | Removes directories recursively. Deletes a directory and, if it's empty, its parent directories as well. |\n",
    "| `fs.rm()` | Removes (deletes) a file or directory. |\n",
    "| `fs.read_text()`| Reads the contents of a file and returns it as a string. |\n",
    "| `fs.read_bytes()` | Reads the contents of a file and returns it as bytes. |\n",
    "| `fs.download()`| Downloads a file from the remote filesystem to the local filesystem. |\n"
   ]
  },
  {
   "cell_type": "markdown",
   "metadata": {},
   "source": [
    "### GitHub Repos as a Remote Filesystem\n",
    "\n",
    "GitHub, a platform widely used for code sharing and collaboration, can also serve as a remote filesystem for data storage and retrieval. This section guides you through using GitHub repositories for accessing and managing data files, leveraging the `GithubFileSystem` class in `fsspec`. \n",
    "\n"
   ]
  },
  {
   "cell_type": "markdown",
   "metadata": {},
   "source": [
    "**Exercises**: Explore navigating remote GitHub filesystems using the `fsspec`'s `GithubFileSystem` class."
   ]
  },
  {
   "cell_type": "code",
   "execution_count": 4,
   "metadata": {},
   "outputs": [
    {
     "name": "stdout",
     "output_type": "stream",
     "text": [
      "Collecting requests\n",
      "  Using cached requests-2.31.0-py3-none-any.whl.metadata (4.6 kB)\n",
      "Collecting charset-normalizer<4,>=2 (from requests)\n",
      "  Using cached charset_normalizer-3.3.2-cp311-cp311-win_amd64.whl.metadata (34 kB)\n",
      "Collecting idna<4,>=2.5 (from requests)\n",
      "  Using cached idna-3.6-py3-none-any.whl.metadata (9.9 kB)\n",
      "Collecting urllib3<3,>=1.21.1 (from requests)\n",
      "  Using cached urllib3-2.2.1-py3-none-any.whl.metadata (6.4 kB)\n",
      "Collecting certifi>=2017.4.17 (from requests)\n",
      "  Using cached certifi-2024.2.2-py3-none-any.whl.metadata (2.2 kB)\n",
      "Using cached requests-2.31.0-py3-none-any.whl (62 kB)\n",
      "Using cached certifi-2024.2.2-py3-none-any.whl (163 kB)\n",
      "Using cached charset_normalizer-3.3.2-cp311-cp311-win_amd64.whl (99 kB)\n",
      "Using cached idna-3.6-py3-none-any.whl (61 kB)\n",
      "Downloading urllib3-2.2.1-py3-none-any.whl (121 kB)\n",
      "   ---------------------------------------- 0.0/121.1 kB ? eta -:--:--\n",
      "   --- ------------------------------------ 10.2/121.1 kB ? eta -:--:--\n",
      "   --------- ----------------------------- 30.7/121.1 kB 435.7 kB/s eta 0:00:01\n",
      "   ----------------------------------- -- 112.6/121.1 kB 930.9 kB/s eta 0:00:01\n",
      "   -------------------------------------- 121.1/121.1 kB 786.0 kB/s eta 0:00:00\n",
      "Installing collected packages: urllib3, idna, charset-normalizer, certifi, requests\n",
      "Successfully installed certifi-2024.2.2 charset-normalizer-3.3.2 idna-3.6 requests-2.31.0 urllib3-2.2.1\n"
     ]
    }
   ],
   "source": [
    "import fsspec\n",
    "from fsspec.implementations.github import GithubFileSystem"
   ]
  },
  {
   "cell_type": "markdown",
   "metadata": {},
   "source": [
    "**Example**: List all the files in the root directory of https://github.com/ibehave-ibots/iBOTS-Tools"
   ]
  },
  {
   "cell_type": "code",
   "execution_count": 5,
   "metadata": {},
   "outputs": [],
   "source": [
    "from fsspec.implementations.github import GithubFileSystem\n",
    "fs = GithubFileSystem(org=\"ibehave-ibots\", repo=\"iBOTS-Tools\")"
   ]
  },
  {
   "cell_type": "markdown",
   "metadata": {},
   "source": [
    "List all the files in the root directory of https://github.com/mwaskom/seaborn-data"
   ]
  },
  {
   "cell_type": "code",
   "execution_count": 10,
   "metadata": {},
   "outputs": [],
   "source": [
    "fs = GithubFileSystem(org=\"mwaskom\", repo=\"seaborn-data\")"
   ]
  },
  {
   "cell_type": "markdown",
   "metadata": {},
   "source": [
    "List all the files whose filenames start with the letter \"p\" (i.e. \"glob\" the files)"
   ]
  },
  {
   "cell_type": "code",
   "execution_count": 15,
   "metadata": {},
   "outputs": [
    {
     "data": {
      "text/plain": [
       "['penguins.csv', 'planets.csv', 'png', 'process']"
      ]
     },
     "execution_count": 15,
     "metadata": {},
     "output_type": "execute_result"
    }
   ],
   "source": [
    "fs.glob('p*')"
   ]
  },
  {
   "cell_type": "markdown",
   "metadata": {},
   "source": [
    "List all the files whose filenames end in the \"CSV\" extension."
   ]
  },
  {
   "cell_type": "code",
   "execution_count": 16,
   "metadata": {},
   "outputs": [
    {
     "data": {
      "text/plain": [
       "['anagrams.csv',\n",
       " 'anscombe.csv',\n",
       " 'attention.csv',\n",
       " 'brain_networks.csv',\n",
       " 'car_crashes.csv',\n",
       " 'diamonds.csv',\n",
       " 'dots.csv',\n",
       " 'dowjones.csv',\n",
       " 'exercise.csv',\n",
       " 'flights.csv',\n",
       " 'fmri.csv',\n",
       " 'geyser.csv',\n",
       " 'glue.csv',\n",
       " 'healthexp.csv',\n",
       " 'iris.csv',\n",
       " 'mpg.csv',\n",
       " 'penguins.csv',\n",
       " 'planets.csv',\n",
       " 'seaice.csv',\n",
       " 'taxis.csv',\n",
       " 'tips.csv',\n",
       " 'titanic.csv']"
      ]
     },
     "execution_count": 16,
     "metadata": {},
     "output_type": "execute_result"
    }
   ],
   "source": [
    "fs.glob('*.csv')"
   ]
  },
  {
   "cell_type": "markdown",
   "metadata": {},
   "source": [
    "List all the PNG image files in the \"png\" folder."
   ]
  },
  {
   "cell_type": "code",
   "execution_count": 19,
   "metadata": {},
   "outputs": [],
   "source": [
    "pngs = fs.glob('png/*.png')"
   ]
  },
  {
   "cell_type": "markdown",
   "metadata": {},
   "source": [
    "Download all the PNG image files in the \"png\" folder."
   ]
  },
  {
   "cell_type": "code",
   "execution_count": 22,
   "metadata": {},
   "outputs": [],
   "source": [
    "fs.download(pngs, '.')"
   ]
  },
  {
   "cell_type": "markdown",
   "metadata": {},
   "source": [
    "List all the files in the root directory of the repo, with `detail=True` (i.e. `fs.ls(\"/\", detail=True)`).  What information does it give us about these files?"
   ]
  },
  {
   "cell_type": "code",
   "execution_count": 23,
   "metadata": {},
   "outputs": [
    {
     "data": {
      "text/plain": [
       "[{'name': 'README.md',\n",
       "  'mode': '100644',\n",
       "  'type': 'file',\n",
       "  'size': 3101,\n",
       "  'sha': '453ab596a15d1f38f2514770783bda43d97ed755'},\n",
       " {'name': 'anagrams.csv',\n",
       "  'mode': '100644',\n",
       "  'type': 'file',\n",
       "  'size': 361,\n",
       "  'sha': '1d88d051b7fff295350bc2ed509b1946d41190b4'},\n",
       " {'name': 'anscombe.csv',\n",
       "  'mode': '100644',\n",
       "  'type': 'file',\n",
       "  'size': 556,\n",
       "  'sha': '62792b68fa5eed40eb75fe00e8daeaaf700f4f82'},\n",
       " {'name': 'attention.csv',\n",
       "  'mode': '100644',\n",
       "  'type': 'file',\n",
       "  'size': 1198,\n",
       "  'sha': '8d1f684e36f36aea05b10408c055eb4b30a3fcef'},\n",
       " {'name': 'brain_networks.csv',\n",
       "  'mode': '100644',\n",
       "  'type': 'file',\n",
       "  'size': 1075911,\n",
       "  'sha': '1ca1f474fa81aa8ee01654da5d6c9fd90c96fa27'},\n",
       " {'name': 'car_crashes.csv',\n",
       "  'mode': '100644',\n",
       "  'type': 'file',\n",
       "  'size': 3301,\n",
       "  'sha': '2248a441bfbbfb1d5c9fa7dbc9dae641c34829a1'},\n",
       " {'name': 'dataset_names.txt',\n",
       "  'mode': '100644',\n",
       "  'type': 'file',\n",
       "  'size': 174,\n",
       "  'sha': '2a27f085940eba05b41e87bbcc2d8c075c000831'},\n",
       " {'name': 'diamonds.csv',\n",
       "  'mode': '100644',\n",
       "  'type': 'file',\n",
       "  'size': 2772143,\n",
       "  'sha': '92259b40dbeea3165759a8f2cb576896612828ac'},\n",
       " {'name': 'dots.csv',\n",
       "  'mode': '100644',\n",
       "  'type': 'file',\n",
       "  'size': 25742,\n",
       "  'sha': '9b7eebf50146fd573b055b3b9f8d2caa57879723'},\n",
       " {'name': 'dowjones.csv',\n",
       "  'mode': '100644',\n",
       "  'type': 'file',\n",
       "  'size': 11349,\n",
       "  'sha': '8c35bf1355e823bd2aa119d2f4979c812e898df1'},\n",
       " {'name': 'exercise.csv',\n",
       "  'mode': '100644',\n",
       "  'type': 'file',\n",
       "  'size': 2735,\n",
       "  'sha': '28a6e946a50375555f67314f86d8d11aa2a4ff17'},\n",
       " {'name': 'flights.csv',\n",
       "  'mode': '100644',\n",
       "  'type': 'file',\n",
       "  'size': 2350,\n",
       "  'sha': '831265b40b19695dd9bd4f7c5bf4baa43c7b54b1'},\n",
       " {'name': 'fmri.csv',\n",
       "  'mode': '100644',\n",
       "  'type': 'file',\n",
       "  'size': 38329,\n",
       "  'sha': '5379a9f917d328baff09ff7140e396c44448eaba'},\n",
       " {'name': 'geyser.csv',\n",
       "  'mode': '100644',\n",
       "  'type': 'file',\n",
       "  'size': 4199,\n",
       "  'sha': 'bc7cafc5cf0200b0c92eae896534770fa25bb9f1'},\n",
       " {'name': 'glue.csv',\n",
       "  'mode': '100644',\n",
       "  'type': 'file',\n",
       "  'size': 2054,\n",
       "  'sha': 'af5c8c314c8906120ee626f47e830eef42e3745b'},\n",
       " {'name': 'healthexp.csv',\n",
       "  'mode': '100644',\n",
       "  'type': 'file',\n",
       "  'size': 7222,\n",
       "  'sha': 'a0602d1b18e82fb3bb44ddc79c8d9b53458544d5'},\n",
       " {'name': 'iris.csv',\n",
       "  'mode': '100644',\n",
       "  'type': 'file',\n",
       "  'size': 3858,\n",
       "  'sha': '20bd6ee57729baea0cc8b05397cc34eb4af8b452'},\n",
       " {'name': 'mpg.csv',\n",
       "  'mode': '100644',\n",
       "  'type': 'file',\n",
       "  'size': 21222,\n",
       "  'sha': '4013b0f0d4ac5bfb40381819ad76f926962192f1'},\n",
       " {'name': 'penguins.csv',\n",
       "  'mode': '100644',\n",
       "  'type': 'file',\n",
       "  'size': 13478,\n",
       "  'sha': '51fd0fe50c4e01e6f42e54063925571c004ef25a'},\n",
       " {'name': 'planets.csv',\n",
       "  'mode': '100644',\n",
       "  'type': 'file',\n",
       "  'size': 36263,\n",
       "  'sha': '337318354770d42471fd5ee21acd3deb40956f7c'},\n",
       " {'name': 'png',\n",
       "  'mode': '040000',\n",
       "  'type': 'directory',\n",
       "  'size': 0,\n",
       "  'sha': '99744314ccef8679fedcf29c33934f30512fd183'},\n",
       " {'name': 'process',\n",
       "  'mode': '040000',\n",
       "  'type': 'directory',\n",
       "  'size': 0,\n",
       "  'sha': '0015761099c99537288210a92dcef24f34eadddf'},\n",
       " {'name': 'raw',\n",
       "  'mode': '040000',\n",
       "  'type': 'directory',\n",
       "  'size': 0,\n",
       "  'sha': 'f2a72f6b359bc69099e4649eee56a5bb1a252a47'},\n",
       " {'name': 'seaice.csv',\n",
       "  'mode': '100644',\n",
       "  'type': 'file',\n",
       "  'size': 231046,\n",
       "  'sha': 'd68e9028569c8afff3a19fa558a37f245ff92cb2'},\n",
       " {'name': 'taxis.csv',\n",
       "  'mode': '100644',\n",
       "  'type': 'file',\n",
       "  'size': 869349,\n",
       "  'sha': 'ded045b462d361b8a0e5ddcdd6c3361cce4ddab4'},\n",
       " {'name': 'tips.csv',\n",
       "  'mode': '100644',\n",
       "  'type': 'file',\n",
       "  'size': 9729,\n",
       "  'sha': '1280a10886c1f858b29c1be1740619cdef3d6be1'},\n",
       " {'name': 'titanic.csv',\n",
       "  'mode': '100644',\n",
       "  'type': 'file',\n",
       "  'size': 57018,\n",
       "  'sha': '5ca531f5d70ce01e61bd7cf8b9f02b016dad4cd0'}]"
      ]
     },
     "execution_count": 23,
     "metadata": {},
     "output_type": "execute_result"
    }
   ],
   "source": [
    "fs.ls('/',detail=True)"
   ]
  },
  {
   "cell_type": "markdown",
   "metadata": {},
   "source": [
    "Read and print the text contents of the \"anscombe.csv\" file. What data is inside this file?"
   ]
  },
  {
   "cell_type": "code",
   "execution_count": 32,
   "metadata": {},
   "outputs": [
    {
     "data": {
      "text/html": [
       "<div>\n",
       "<style scoped>\n",
       "    .dataframe tbody tr th:only-of-type {\n",
       "        vertical-align: middle;\n",
       "    }\n",
       "\n",
       "    .dataframe tbody tr th {\n",
       "        vertical-align: top;\n",
       "    }\n",
       "\n",
       "    .dataframe thead th {\n",
       "        text-align: right;\n",
       "    }\n",
       "</style>\n",
       "<table border=\"1\" class=\"dataframe\">\n",
       "  <thead>\n",
       "    <tr style=\"text-align: right;\">\n",
       "      <th></th>\n",
       "      <th>dataset</th>\n",
       "      <th>x</th>\n",
       "      <th>y</th>\n",
       "    </tr>\n",
       "  </thead>\n",
       "  <tbody>\n",
       "    <tr>\n",
       "      <th>0</th>\n",
       "      <td>I</td>\n",
       "      <td>10.0</td>\n",
       "      <td>8.04</td>\n",
       "    </tr>\n",
       "    <tr>\n",
       "      <th>1</th>\n",
       "      <td>I</td>\n",
       "      <td>8.0</td>\n",
       "      <td>6.95</td>\n",
       "    </tr>\n",
       "    <tr>\n",
       "      <th>2</th>\n",
       "      <td>I</td>\n",
       "      <td>13.0</td>\n",
       "      <td>7.58</td>\n",
       "    </tr>\n",
       "    <tr>\n",
       "      <th>3</th>\n",
       "      <td>I</td>\n",
       "      <td>9.0</td>\n",
       "      <td>8.81</td>\n",
       "    </tr>\n",
       "    <tr>\n",
       "      <th>4</th>\n",
       "      <td>I</td>\n",
       "      <td>11.0</td>\n",
       "      <td>8.33</td>\n",
       "    </tr>\n",
       "    <tr>\n",
       "      <th>5</th>\n",
       "      <td>I</td>\n",
       "      <td>14.0</td>\n",
       "      <td>9.96</td>\n",
       "    </tr>\n",
       "    <tr>\n",
       "      <th>6</th>\n",
       "      <td>I</td>\n",
       "      <td>6.0</td>\n",
       "      <td>7.24</td>\n",
       "    </tr>\n",
       "    <tr>\n",
       "      <th>7</th>\n",
       "      <td>I</td>\n",
       "      <td>4.0</td>\n",
       "      <td>4.26</td>\n",
       "    </tr>\n",
       "    <tr>\n",
       "      <th>8</th>\n",
       "      <td>I</td>\n",
       "      <td>12.0</td>\n",
       "      <td>10.84</td>\n",
       "    </tr>\n",
       "    <tr>\n",
       "      <th>9</th>\n",
       "      <td>I</td>\n",
       "      <td>7.0</td>\n",
       "      <td>4.82</td>\n",
       "    </tr>\n",
       "    <tr>\n",
       "      <th>10</th>\n",
       "      <td>I</td>\n",
       "      <td>5.0</td>\n",
       "      <td>5.68</td>\n",
       "    </tr>\n",
       "    <tr>\n",
       "      <th>11</th>\n",
       "      <td>II</td>\n",
       "      <td>10.0</td>\n",
       "      <td>9.14</td>\n",
       "    </tr>\n",
       "    <tr>\n",
       "      <th>12</th>\n",
       "      <td>II</td>\n",
       "      <td>8.0</td>\n",
       "      <td>8.14</td>\n",
       "    </tr>\n",
       "    <tr>\n",
       "      <th>13</th>\n",
       "      <td>II</td>\n",
       "      <td>13.0</td>\n",
       "      <td>8.74</td>\n",
       "    </tr>\n",
       "    <tr>\n",
       "      <th>14</th>\n",
       "      <td>II</td>\n",
       "      <td>9.0</td>\n",
       "      <td>8.77</td>\n",
       "    </tr>\n",
       "    <tr>\n",
       "      <th>15</th>\n",
       "      <td>II</td>\n",
       "      <td>11.0</td>\n",
       "      <td>9.26</td>\n",
       "    </tr>\n",
       "    <tr>\n",
       "      <th>16</th>\n",
       "      <td>II</td>\n",
       "      <td>14.0</td>\n",
       "      <td>8.10</td>\n",
       "    </tr>\n",
       "    <tr>\n",
       "      <th>17</th>\n",
       "      <td>II</td>\n",
       "      <td>6.0</td>\n",
       "      <td>6.13</td>\n",
       "    </tr>\n",
       "    <tr>\n",
       "      <th>18</th>\n",
       "      <td>II</td>\n",
       "      <td>4.0</td>\n",
       "      <td>3.10</td>\n",
       "    </tr>\n",
       "    <tr>\n",
       "      <th>19</th>\n",
       "      <td>II</td>\n",
       "      <td>12.0</td>\n",
       "      <td>9.13</td>\n",
       "    </tr>\n",
       "    <tr>\n",
       "      <th>20</th>\n",
       "      <td>II</td>\n",
       "      <td>7.0</td>\n",
       "      <td>7.26</td>\n",
       "    </tr>\n",
       "    <tr>\n",
       "      <th>21</th>\n",
       "      <td>II</td>\n",
       "      <td>5.0</td>\n",
       "      <td>4.74</td>\n",
       "    </tr>\n",
       "    <tr>\n",
       "      <th>22</th>\n",
       "      <td>III</td>\n",
       "      <td>10.0</td>\n",
       "      <td>7.46</td>\n",
       "    </tr>\n",
       "    <tr>\n",
       "      <th>23</th>\n",
       "      <td>III</td>\n",
       "      <td>8.0</td>\n",
       "      <td>6.77</td>\n",
       "    </tr>\n",
       "    <tr>\n",
       "      <th>24</th>\n",
       "      <td>III</td>\n",
       "      <td>13.0</td>\n",
       "      <td>12.74</td>\n",
       "    </tr>\n",
       "    <tr>\n",
       "      <th>25</th>\n",
       "      <td>III</td>\n",
       "      <td>9.0</td>\n",
       "      <td>7.11</td>\n",
       "    </tr>\n",
       "    <tr>\n",
       "      <th>26</th>\n",
       "      <td>III</td>\n",
       "      <td>11.0</td>\n",
       "      <td>7.81</td>\n",
       "    </tr>\n",
       "    <tr>\n",
       "      <th>27</th>\n",
       "      <td>III</td>\n",
       "      <td>14.0</td>\n",
       "      <td>8.84</td>\n",
       "    </tr>\n",
       "    <tr>\n",
       "      <th>28</th>\n",
       "      <td>III</td>\n",
       "      <td>6.0</td>\n",
       "      <td>6.08</td>\n",
       "    </tr>\n",
       "    <tr>\n",
       "      <th>29</th>\n",
       "      <td>III</td>\n",
       "      <td>4.0</td>\n",
       "      <td>5.39</td>\n",
       "    </tr>\n",
       "    <tr>\n",
       "      <th>30</th>\n",
       "      <td>III</td>\n",
       "      <td>12.0</td>\n",
       "      <td>8.15</td>\n",
       "    </tr>\n",
       "    <tr>\n",
       "      <th>31</th>\n",
       "      <td>III</td>\n",
       "      <td>7.0</td>\n",
       "      <td>6.42</td>\n",
       "    </tr>\n",
       "    <tr>\n",
       "      <th>32</th>\n",
       "      <td>III</td>\n",
       "      <td>5.0</td>\n",
       "      <td>5.73</td>\n",
       "    </tr>\n",
       "    <tr>\n",
       "      <th>33</th>\n",
       "      <td>IV</td>\n",
       "      <td>8.0</td>\n",
       "      <td>6.58</td>\n",
       "    </tr>\n",
       "    <tr>\n",
       "      <th>34</th>\n",
       "      <td>IV</td>\n",
       "      <td>8.0</td>\n",
       "      <td>5.76</td>\n",
       "    </tr>\n",
       "    <tr>\n",
       "      <th>35</th>\n",
       "      <td>IV</td>\n",
       "      <td>8.0</td>\n",
       "      <td>7.71</td>\n",
       "    </tr>\n",
       "    <tr>\n",
       "      <th>36</th>\n",
       "      <td>IV</td>\n",
       "      <td>8.0</td>\n",
       "      <td>8.84</td>\n",
       "    </tr>\n",
       "    <tr>\n",
       "      <th>37</th>\n",
       "      <td>IV</td>\n",
       "      <td>8.0</td>\n",
       "      <td>8.47</td>\n",
       "    </tr>\n",
       "    <tr>\n",
       "      <th>38</th>\n",
       "      <td>IV</td>\n",
       "      <td>8.0</td>\n",
       "      <td>7.04</td>\n",
       "    </tr>\n",
       "    <tr>\n",
       "      <th>39</th>\n",
       "      <td>IV</td>\n",
       "      <td>8.0</td>\n",
       "      <td>5.25</td>\n",
       "    </tr>\n",
       "    <tr>\n",
       "      <th>40</th>\n",
       "      <td>IV</td>\n",
       "      <td>19.0</td>\n",
       "      <td>12.50</td>\n",
       "    </tr>\n",
       "    <tr>\n",
       "      <th>41</th>\n",
       "      <td>IV</td>\n",
       "      <td>8.0</td>\n",
       "      <td>5.56</td>\n",
       "    </tr>\n",
       "    <tr>\n",
       "      <th>42</th>\n",
       "      <td>IV</td>\n",
       "      <td>8.0</td>\n",
       "      <td>7.91</td>\n",
       "    </tr>\n",
       "    <tr>\n",
       "      <th>43</th>\n",
       "      <td>IV</td>\n",
       "      <td>8.0</td>\n",
       "      <td>6.89</td>\n",
       "    </tr>\n",
       "  </tbody>\n",
       "</table>\n",
       "</div>"
      ],
      "text/plain": [
       "   dataset     x      y\n",
       "0        I  10.0   8.04\n",
       "1        I   8.0   6.95\n",
       "2        I  13.0   7.58\n",
       "3        I   9.0   8.81\n",
       "4        I  11.0   8.33\n",
       "5        I  14.0   9.96\n",
       "6        I   6.0   7.24\n",
       "7        I   4.0   4.26\n",
       "8        I  12.0  10.84\n",
       "9        I   7.0   4.82\n",
       "10       I   5.0   5.68\n",
       "11      II  10.0   9.14\n",
       "12      II   8.0   8.14\n",
       "13      II  13.0   8.74\n",
       "14      II   9.0   8.77\n",
       "15      II  11.0   9.26\n",
       "16      II  14.0   8.10\n",
       "17      II   6.0   6.13\n",
       "18      II   4.0   3.10\n",
       "19      II  12.0   9.13\n",
       "20      II   7.0   7.26\n",
       "21      II   5.0   4.74\n",
       "22     III  10.0   7.46\n",
       "23     III   8.0   6.77\n",
       "24     III  13.0  12.74\n",
       "25     III   9.0   7.11\n",
       "26     III  11.0   7.81\n",
       "27     III  14.0   8.84\n",
       "28     III   6.0   6.08\n",
       "29     III   4.0   5.39\n",
       "30     III  12.0   8.15\n",
       "31     III   7.0   6.42\n",
       "32     III   5.0   5.73\n",
       "33      IV   8.0   6.58\n",
       "34      IV   8.0   5.76\n",
       "35      IV   8.0   7.71\n",
       "36      IV   8.0   8.84\n",
       "37      IV   8.0   8.47\n",
       "38      IV   8.0   7.04\n",
       "39      IV   8.0   5.25\n",
       "40      IV  19.0  12.50\n",
       "41      IV   8.0   5.56\n",
       "42      IV   8.0   7.91\n",
       "43      IV   8.0   6.89"
      ]
     },
     "execution_count": 32,
     "metadata": {},
     "output_type": "execute_result"
    }
   ],
   "source": [
    "import pandas as pd\n",
    "import io\n",
    "pd.read_table(io.StringIO(fs.read_text('anscombe.csv')),sep= ',')"
   ]
  },
  {
   "cell_type": "markdown",
   "metadata": {},
   "source": [
    "**DeepLabCut**: Answer the following questions about the DeepLabCut GitHub Repo:   https://github.com/DeepLabCut/DeepLabCut"
   ]
  },
  {
   "cell_type": "markdown",
   "metadata": {},
   "source": [
    "What files are in the root directory of the DeepLabCut repo?"
   ]
  },
  {
   "cell_type": "code",
   "execution_count": 37,
   "metadata": {},
   "outputs": [],
   "source": [
    "fs = GithubFileSystem(org=\"DeepLabCut\", repo=\"DeepLabCut\")"
   ]
  },
  {
   "cell_type": "code",
   "execution_count": 50,
   "metadata": {},
   "outputs": [
    {
     "ename": "HTTPError",
     "evalue": "403 Client Error: rate limit exceeded for url: https://api.github.com/repos/DeepLabCut/DeepLabCut/git/trees/45d2b84ef91215dd02750b658d4d2a3baeadbcc5",
     "output_type": "error",
     "traceback": [
      "\u001b[1;31m---------------------------------------------------------------------------\u001b[0m",
      "\u001b[1;31mHTTPError\u001b[0m                                 Traceback (most recent call last)",
      "Cell \u001b[1;32mIn[50], line 1\u001b[0m\n\u001b[1;32m----> 1\u001b[0m \u001b[43mfs\u001b[49m\u001b[38;5;241;43m.\u001b[39;49m\u001b[43mls\u001b[49m\u001b[43m(\u001b[49m\u001b[38;5;124;43m'\u001b[39;49m\u001b[38;5;124;43mexamples\u001b[39;49m\u001b[38;5;124;43m'\u001b[39;49m\u001b[43m)\u001b[49m\n",
      "File \u001b[1;32mc:\\Users\\mreki\\miniconda3\\envs\\dwshop\\Lib\\site-packages\\fsspec\\implementations\\github.py:166\u001b[0m, in \u001b[0;36mGithubFileSystem.ls\u001b[1;34m(self, path, detail, sha, _sha, **kwargs)\u001b[0m\n\u001b[0;32m    164\u001b[0m \u001b[38;5;28;01mif\u001b[39;00m r\u001b[38;5;241m.\u001b[39mstatus_code \u001b[38;5;241m==\u001b[39m \u001b[38;5;241m404\u001b[39m:\n\u001b[0;32m    165\u001b[0m     \u001b[38;5;28;01mraise\u001b[39;00m \u001b[38;5;167;01mFileNotFoundError\u001b[39;00m(path)\n\u001b[1;32m--> 166\u001b[0m \u001b[43mr\u001b[49m\u001b[38;5;241;43m.\u001b[39;49m\u001b[43mraise_for_status\u001b[49m\u001b[43m(\u001b[49m\u001b[43m)\u001b[49m\n\u001b[0;32m    167\u001b[0m types \u001b[38;5;241m=\u001b[39m {\u001b[38;5;124m\"\u001b[39m\u001b[38;5;124mblob\u001b[39m\u001b[38;5;124m\"\u001b[39m: \u001b[38;5;124m\"\u001b[39m\u001b[38;5;124mfile\u001b[39m\u001b[38;5;124m\"\u001b[39m, \u001b[38;5;124m\"\u001b[39m\u001b[38;5;124mtree\u001b[39m\u001b[38;5;124m\"\u001b[39m: \u001b[38;5;124m\"\u001b[39m\u001b[38;5;124mdirectory\u001b[39m\u001b[38;5;124m\"\u001b[39m}\n\u001b[0;32m    168\u001b[0m out \u001b[38;5;241m=\u001b[39m [\n\u001b[0;32m    169\u001b[0m     {\n\u001b[0;32m    170\u001b[0m         \u001b[38;5;124m\"\u001b[39m\u001b[38;5;124mname\u001b[39m\u001b[38;5;124m\"\u001b[39m: path \u001b[38;5;241m+\u001b[39m \u001b[38;5;124m\"\u001b[39m\u001b[38;5;124m/\u001b[39m\u001b[38;5;124m\"\u001b[39m \u001b[38;5;241m+\u001b[39m f[\u001b[38;5;124m\"\u001b[39m\u001b[38;5;124mpath\u001b[39m\u001b[38;5;124m\"\u001b[39m] \u001b[38;5;28;01mif\u001b[39;00m path \u001b[38;5;28;01melse\u001b[39;00m f[\u001b[38;5;124m\"\u001b[39m\u001b[38;5;124mpath\u001b[39m\u001b[38;5;124m\"\u001b[39m],\n\u001b[1;32m   (...)\u001b[0m\n\u001b[0;32m    177\u001b[0m     \u001b[38;5;28;01mif\u001b[39;00m f[\u001b[38;5;124m\"\u001b[39m\u001b[38;5;124mtype\u001b[39m\u001b[38;5;124m\"\u001b[39m] \u001b[38;5;129;01min\u001b[39;00m types\n\u001b[0;32m    178\u001b[0m ]\n",
      "File \u001b[1;32mc:\\Users\\mreki\\miniconda3\\envs\\dwshop\\Lib\\site-packages\\requests\\models.py:1021\u001b[0m, in \u001b[0;36mResponse.raise_for_status\u001b[1;34m(self)\u001b[0m\n\u001b[0;32m   1016\u001b[0m     http_error_msg \u001b[38;5;241m=\u001b[39m (\n\u001b[0;32m   1017\u001b[0m         \u001b[38;5;124mf\u001b[39m\u001b[38;5;124m\"\u001b[39m\u001b[38;5;132;01m{\u001b[39;00m\u001b[38;5;28mself\u001b[39m\u001b[38;5;241m.\u001b[39mstatus_code\u001b[38;5;132;01m}\u001b[39;00m\u001b[38;5;124m Server Error: \u001b[39m\u001b[38;5;132;01m{\u001b[39;00mreason\u001b[38;5;132;01m}\u001b[39;00m\u001b[38;5;124m for url: \u001b[39m\u001b[38;5;132;01m{\u001b[39;00m\u001b[38;5;28mself\u001b[39m\u001b[38;5;241m.\u001b[39murl\u001b[38;5;132;01m}\u001b[39;00m\u001b[38;5;124m\"\u001b[39m\n\u001b[0;32m   1018\u001b[0m     )\n\u001b[0;32m   1020\u001b[0m \u001b[38;5;28;01mif\u001b[39;00m http_error_msg:\n\u001b[1;32m-> 1021\u001b[0m     \u001b[38;5;28;01mraise\u001b[39;00m HTTPError(http_error_msg, response\u001b[38;5;241m=\u001b[39m\u001b[38;5;28mself\u001b[39m)\n",
      "\u001b[1;31mHTTPError\u001b[0m: 403 Client Error: rate limit exceeded for url: https://api.github.com/repos/DeepLabCut/DeepLabCut/git/trees/45d2b84ef91215dd02750b658d4d2a3baeadbcc5"
     ]
    }
   ],
   "source": [
    "fs.ls('examples')"
   ]
  },
  {
   "cell_type": "markdown",
   "metadata": {},
   "source": [
    "How many files or folders are in the \"openfield-Pranav-2018-10-30\" folder, which is in the \"examples\" folder?  (Tip: the `len()` function can be helpful here.)"
   ]
  },
  {
   "cell_type": "code",
   "execution_count": 58,
   "metadata": {},
   "outputs": [
    {
     "data": {
      "text/plain": [
       "['examples/openfield-Pranav-2018-10-30/config.yaml',\n",
       " 'examples/openfield-Pranav-2018-10-30/labeled-data',\n",
       " 'examples/openfield-Pranav-2018-10-30/videos']"
      ]
     },
     "execution_count": 58,
     "metadata": {},
     "output_type": "execute_result"
    }
   ],
   "source": [
    "fs.glob('examples/openfield-Pranav-2018-10-30/*')"
   ]
  },
  {
   "cell_type": "markdown",
   "metadata": {},
   "source": [
    "How many files are there, if you include every single file or folder in all the subfolders of the openfield example?"
   ]
  },
  {
   "cell_type": "code",
   "execution_count": 59,
   "metadata": {},
   "outputs": [
    {
     "data": {
      "text/plain": [
       "['examples/openfield-Pranav-2018-10-30',\n",
       " 'examples/openfield-Pranav-2018-10-30/config.yaml',\n",
       " 'examples/openfield-Pranav-2018-10-30/labeled-data',\n",
       " 'examples/openfield-Pranav-2018-10-30/labeled-data/m4s1',\n",
       " 'examples/openfield-Pranav-2018-10-30/labeled-data/m4s1/CollectedData_Pranav.csv',\n",
       " 'examples/openfield-Pranav-2018-10-30/labeled-data/m4s1/CollectedData_Pranav.h5',\n",
       " 'examples/openfield-Pranav-2018-10-30/labeled-data/m4s1/img0000.png',\n",
       " 'examples/openfield-Pranav-2018-10-30/labeled-data/m4s1/img0001.png',\n",
       " 'examples/openfield-Pranav-2018-10-30/labeled-data/m4s1/img0002.png',\n",
       " 'examples/openfield-Pranav-2018-10-30/labeled-data/m4s1/img0003.png',\n",
       " 'examples/openfield-Pranav-2018-10-30/labeled-data/m4s1/img0004.png',\n",
       " 'examples/openfield-Pranav-2018-10-30/labeled-data/m4s1/img0005.png',\n",
       " 'examples/openfield-Pranav-2018-10-30/labeled-data/m4s1/img0006.png',\n",
       " 'examples/openfield-Pranav-2018-10-30/labeled-data/m4s1/img0007.png',\n",
       " 'examples/openfield-Pranav-2018-10-30/labeled-data/m4s1/img0008.png',\n",
       " 'examples/openfield-Pranav-2018-10-30/labeled-data/m4s1/img0009.png',\n",
       " 'examples/openfield-Pranav-2018-10-30/labeled-data/m4s1/img0010.png',\n",
       " 'examples/openfield-Pranav-2018-10-30/labeled-data/m4s1/img0011.png',\n",
       " 'examples/openfield-Pranav-2018-10-30/labeled-data/m4s1/img0012.png',\n",
       " 'examples/openfield-Pranav-2018-10-30/labeled-data/m4s1/img0013.png',\n",
       " 'examples/openfield-Pranav-2018-10-30/labeled-data/m4s1/img0014.png',\n",
       " 'examples/openfield-Pranav-2018-10-30/labeled-data/m4s1/img0015.png',\n",
       " 'examples/openfield-Pranav-2018-10-30/labeled-data/m4s1/img0016.png',\n",
       " 'examples/openfield-Pranav-2018-10-30/labeled-data/m4s1/img0017.png',\n",
       " 'examples/openfield-Pranav-2018-10-30/labeled-data/m4s1/img0018.png',\n",
       " 'examples/openfield-Pranav-2018-10-30/labeled-data/m4s1/img0019.png',\n",
       " 'examples/openfield-Pranav-2018-10-30/labeled-data/m4s1/img0020.png',\n",
       " 'examples/openfield-Pranav-2018-10-30/labeled-data/m4s1/img0021.png',\n",
       " 'examples/openfield-Pranav-2018-10-30/labeled-data/m4s1/img0022.png',\n",
       " 'examples/openfield-Pranav-2018-10-30/labeled-data/m4s1/img0023.png',\n",
       " 'examples/openfield-Pranav-2018-10-30/labeled-data/m4s1/img0024.png',\n",
       " 'examples/openfield-Pranav-2018-10-30/labeled-data/m4s1/img0025.png',\n",
       " 'examples/openfield-Pranav-2018-10-30/labeled-data/m4s1/img0026.png',\n",
       " 'examples/openfield-Pranav-2018-10-30/labeled-data/m4s1/img0027.png',\n",
       " 'examples/openfield-Pranav-2018-10-30/labeled-data/m4s1/img0028.png',\n",
       " 'examples/openfield-Pranav-2018-10-30/labeled-data/m4s1/img0029.png',\n",
       " 'examples/openfield-Pranav-2018-10-30/labeled-data/m4s1/img0030.png',\n",
       " 'examples/openfield-Pranav-2018-10-30/labeled-data/m4s1/img0031.png',\n",
       " 'examples/openfield-Pranav-2018-10-30/labeled-data/m4s1/img0032.png',\n",
       " 'examples/openfield-Pranav-2018-10-30/labeled-data/m4s1/img0033.png',\n",
       " 'examples/openfield-Pranav-2018-10-30/labeled-data/m4s1/img0034.png',\n",
       " 'examples/openfield-Pranav-2018-10-30/labeled-data/m4s1/img0035.png',\n",
       " 'examples/openfield-Pranav-2018-10-30/labeled-data/m4s1/img0036.png',\n",
       " 'examples/openfield-Pranav-2018-10-30/labeled-data/m4s1/img0037.png',\n",
       " 'examples/openfield-Pranav-2018-10-30/labeled-data/m4s1/img0038.png',\n",
       " 'examples/openfield-Pranav-2018-10-30/labeled-data/m4s1/img0039.png',\n",
       " 'examples/openfield-Pranav-2018-10-30/labeled-data/m4s1/img0040.png',\n",
       " 'examples/openfield-Pranav-2018-10-30/labeled-data/m4s1/img0041.png',\n",
       " 'examples/openfield-Pranav-2018-10-30/labeled-data/m4s1/img0042.png',\n",
       " 'examples/openfield-Pranav-2018-10-30/labeled-data/m4s1/img0043.png',\n",
       " 'examples/openfield-Pranav-2018-10-30/labeled-data/m4s1/img0044.png',\n",
       " 'examples/openfield-Pranav-2018-10-30/labeled-data/m4s1/img0045.png',\n",
       " 'examples/openfield-Pranav-2018-10-30/labeled-data/m4s1/img0046.png',\n",
       " 'examples/openfield-Pranav-2018-10-30/labeled-data/m4s1/img0047.png',\n",
       " 'examples/openfield-Pranav-2018-10-30/labeled-data/m4s1/img0048.png',\n",
       " 'examples/openfield-Pranav-2018-10-30/labeled-data/m4s1/img0049.png',\n",
       " 'examples/openfield-Pranav-2018-10-30/labeled-data/m4s1/img0050.png',\n",
       " 'examples/openfield-Pranav-2018-10-30/labeled-data/m4s1/img0051.png',\n",
       " 'examples/openfield-Pranav-2018-10-30/labeled-data/m4s1/img0052.png',\n",
       " 'examples/openfield-Pranav-2018-10-30/labeled-data/m4s1/img0053.png',\n",
       " 'examples/openfield-Pranav-2018-10-30/labeled-data/m4s1/img0054.png',\n",
       " 'examples/openfield-Pranav-2018-10-30/labeled-data/m4s1/img0055.png',\n",
       " 'examples/openfield-Pranav-2018-10-30/labeled-data/m4s1/img0056.png',\n",
       " 'examples/openfield-Pranav-2018-10-30/labeled-data/m4s1/img0057.png',\n",
       " 'examples/openfield-Pranav-2018-10-30/labeled-data/m4s1/img0058.png',\n",
       " 'examples/openfield-Pranav-2018-10-30/labeled-data/m4s1/img0059.png',\n",
       " 'examples/openfield-Pranav-2018-10-30/labeled-data/m4s1/img0060.png',\n",
       " 'examples/openfield-Pranav-2018-10-30/labeled-data/m4s1/img0061.png',\n",
       " 'examples/openfield-Pranav-2018-10-30/labeled-data/m4s1/img0062.png',\n",
       " 'examples/openfield-Pranav-2018-10-30/labeled-data/m4s1/img0063.png',\n",
       " 'examples/openfield-Pranav-2018-10-30/labeled-data/m4s1/img0064.png',\n",
       " 'examples/openfield-Pranav-2018-10-30/labeled-data/m4s1/img0065.png',\n",
       " 'examples/openfield-Pranav-2018-10-30/labeled-data/m4s1/img0066.png',\n",
       " 'examples/openfield-Pranav-2018-10-30/labeled-data/m4s1/img0067.png',\n",
       " 'examples/openfield-Pranav-2018-10-30/labeled-data/m4s1/img0068.png',\n",
       " 'examples/openfield-Pranav-2018-10-30/labeled-data/m4s1/img0069.png',\n",
       " 'examples/openfield-Pranav-2018-10-30/labeled-data/m4s1/img0070.png',\n",
       " 'examples/openfield-Pranav-2018-10-30/labeled-data/m4s1/img0071.png',\n",
       " 'examples/openfield-Pranav-2018-10-30/labeled-data/m4s1/img0072.png',\n",
       " 'examples/openfield-Pranav-2018-10-30/labeled-data/m4s1/img0073.png',\n",
       " 'examples/openfield-Pranav-2018-10-30/labeled-data/m4s1/img0074.png',\n",
       " 'examples/openfield-Pranav-2018-10-30/labeled-data/m4s1/img0075.png',\n",
       " 'examples/openfield-Pranav-2018-10-30/labeled-data/m4s1/img0076.png',\n",
       " 'examples/openfield-Pranav-2018-10-30/labeled-data/m4s1/img0077.png',\n",
       " 'examples/openfield-Pranav-2018-10-30/labeled-data/m4s1/img0078.png',\n",
       " 'examples/openfield-Pranav-2018-10-30/labeled-data/m4s1/img0079.png',\n",
       " 'examples/openfield-Pranav-2018-10-30/labeled-data/m4s1/img0080.png',\n",
       " 'examples/openfield-Pranav-2018-10-30/labeled-data/m4s1/img0081.png',\n",
       " 'examples/openfield-Pranav-2018-10-30/labeled-data/m4s1/img0082.png',\n",
       " 'examples/openfield-Pranav-2018-10-30/labeled-data/m4s1/img0083.png',\n",
       " 'examples/openfield-Pranav-2018-10-30/labeled-data/m4s1/img0084.png',\n",
       " 'examples/openfield-Pranav-2018-10-30/labeled-data/m4s1/img0085.png',\n",
       " 'examples/openfield-Pranav-2018-10-30/labeled-data/m4s1/img0086.png',\n",
       " 'examples/openfield-Pranav-2018-10-30/labeled-data/m4s1/img0087.png',\n",
       " 'examples/openfield-Pranav-2018-10-30/labeled-data/m4s1/img0088.png',\n",
       " 'examples/openfield-Pranav-2018-10-30/labeled-data/m4s1/img0089.png',\n",
       " 'examples/openfield-Pranav-2018-10-30/labeled-data/m4s1/img0090.png',\n",
       " 'examples/openfield-Pranav-2018-10-30/labeled-data/m4s1/img0091.png',\n",
       " 'examples/openfield-Pranav-2018-10-30/labeled-data/m4s1/img0092.png',\n",
       " 'examples/openfield-Pranav-2018-10-30/labeled-data/m4s1/img0093.png',\n",
       " 'examples/openfield-Pranav-2018-10-30/labeled-data/m4s1/img0094.png',\n",
       " 'examples/openfield-Pranav-2018-10-30/labeled-data/m4s1/img0095.png',\n",
       " 'examples/openfield-Pranav-2018-10-30/labeled-data/m4s1/img0096.png',\n",
       " 'examples/openfield-Pranav-2018-10-30/labeled-data/m4s1/img0097.png',\n",
       " 'examples/openfield-Pranav-2018-10-30/labeled-data/m4s1/img0098.png',\n",
       " 'examples/openfield-Pranav-2018-10-30/labeled-data/m4s1/img0099.png',\n",
       " 'examples/openfield-Pranav-2018-10-30/labeled-data/m4s1/img0100.png',\n",
       " 'examples/openfield-Pranav-2018-10-30/labeled-data/m4s1/img0101.png',\n",
       " 'examples/openfield-Pranav-2018-10-30/labeled-data/m4s1/img0102.png',\n",
       " 'examples/openfield-Pranav-2018-10-30/labeled-data/m4s1/img0103.png',\n",
       " 'examples/openfield-Pranav-2018-10-30/labeled-data/m4s1/img0104.png',\n",
       " 'examples/openfield-Pranav-2018-10-30/labeled-data/m4s1/img0105.png',\n",
       " 'examples/openfield-Pranav-2018-10-30/labeled-data/m4s1/img0106.png',\n",
       " 'examples/openfield-Pranav-2018-10-30/labeled-data/m4s1/img0107.png',\n",
       " 'examples/openfield-Pranav-2018-10-30/labeled-data/m4s1/img0108.png',\n",
       " 'examples/openfield-Pranav-2018-10-30/labeled-data/m4s1/img0109.png',\n",
       " 'examples/openfield-Pranav-2018-10-30/labeled-data/m4s1/img0110.png',\n",
       " 'examples/openfield-Pranav-2018-10-30/labeled-data/m4s1/img0111.png',\n",
       " 'examples/openfield-Pranav-2018-10-30/labeled-data/m4s1/img0112.png',\n",
       " 'examples/openfield-Pranav-2018-10-30/labeled-data/m4s1/img0113.png',\n",
       " 'examples/openfield-Pranav-2018-10-30/labeled-data/m4s1/img0114.png',\n",
       " 'examples/openfield-Pranav-2018-10-30/labeled-data/m4s1/img0115.png',\n",
       " 'examples/openfield-Pranav-2018-10-30/videos',\n",
       " 'examples/openfield-Pranav-2018-10-30/videos/m3v1mp4.mp4']"
      ]
     },
     "execution_count": 59,
     "metadata": {},
     "output_type": "execute_result"
    }
   ],
   "source": [
    "fs.glob('examples/openfield-Pranav-2018-10-30/**')"
   ]
  },
  {
   "cell_type": "markdown",
   "metadata": {},
   "source": [
    "Download all the \"labeled-data\" files in the openfield example (`fs.download(recursive=True)`)"
   ]
  },
  {
   "cell_type": "code",
   "execution_count": 61,
   "metadata": {},
   "outputs": [],
   "source": [
    "fs.download(fs.glob('examples/openfield-Pranav-2018-10-30/labeled-data/*'),recursive=True, lpath='.')"
   ]
  },
  {
   "cell_type": "code",
   "execution_count": null,
   "metadata": {},
   "outputs": [],
   "source": []
  }
 ],
 "metadata": {
  "kernelspec": {
   "display_name": "duckdb",
   "language": "python",
   "name": "python3"
  },
  "language_info": {
   "codemirror_mode": {
    "name": "ipython",
    "version": 3
   },
   "file_extension": ".py",
   "mimetype": "text/x-python",
   "name": "python",
   "nbconvert_exporter": "python",
   "pygments_lexer": "ipython3",
   "version": "3.11.7"
  }
 },
 "nbformat": 4,
 "nbformat_minor": 2
}
